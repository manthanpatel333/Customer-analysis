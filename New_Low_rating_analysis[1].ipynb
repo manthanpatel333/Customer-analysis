{
  "cells": [
    {
      "cell_type": "code",
      "execution_count": 1,
      "metadata": {
        "id": "Y620oeADGEZ6"
      },
      "outputs": [],
      "source": [
        "import pandas as pd"
      ]
    },
    {
      "cell_type": "code",
      "execution_count": 3,
      "metadata": {
        "colab": {
          "base_uri": "https://localhost:8080/",
          "height": 35
        },
        "id": "8cLAhNR3vjEe",
        "outputId": "8b8aa65a-e11a-4749-b2c9-c5618628856a"
      },
      "outputs": [
        {
          "data": {
            "application/vnd.google.colaboratory.intrinsic+json": {
              "type": "string"
            },
            "text/plain": [
              "'/content'"
            ]
          },
          "execution_count": 3,
          "metadata": {},
          "output_type": "execute_result"
        }
      ],
      "source": [
        "pwd\n"
      ]
    },
    {
      "cell_type": "code",
      "execution_count": 5,
      "metadata": {
        "id": "rlpR7iGMGEZ8"
      },
      "outputs": [],
      "source": [
        "df = pd.read_csv(r'/content/660_Project/problem_less rating.csv')"
      ]
    },
    {
      "cell_type": "code",
      "execution_count": null,
      "metadata": {
        "id": "yGPEJ7pHGEZ9",
        "outputId": "b874fb6a-f794-4805-e97d-9a0787c941ca"
      },
      "outputs": [
        {
          "data": {
            "text/plain": [
              "Unnamed: 0.2                0\n",
              "Unnamed: 0.1                0\n",
              "Unnamed: 0                  0\n",
              "fit                         0\n",
              "user_id                     0\n",
              "item_id                     0\n",
              "rating                      0\n",
              "rented for                  0\n",
              "review_text                 0\n",
              "body type                   0\n",
              "review_summary              0\n",
              "category                    0\n",
              "height                      0\n",
              "size                        0\n",
              "age                         0\n",
              "review_date                 0\n",
              "tokenized_review_summary    0\n",
              "tokenized_review_text       0\n",
              "age_group                   0\n",
              "height_decimal              0\n",
              "height_group                0\n",
              "dtype: int64"
            ]
          },
          "execution_count": 32,
          "metadata": {},
          "output_type": "execute_result"
        }
      ],
      "source": [
        "df.isnull().sum()"
      ]
    },
    {
      "cell_type": "code",
      "execution_count": 6,
      "metadata": {
        "colab": {
          "base_uri": "https://localhost:8080/",
          "height": 583
        },
        "id": "Xr2izIhGGEZ-",
        "outputId": "aa1ec65a-ea49-48bf-8dcc-2cc3289faf42"
      },
      "outputs": [
        {
          "data": {
            "text/html": [
              "\n",
              "  <div id=\"df-9c3fad33-47e7-4943-8ab1-731fc276f6eb\" class=\"colab-df-container\">\n",
              "    <div>\n",
              "<style scoped>\n",
              "    .dataframe tbody tr th:only-of-type {\n",
              "        vertical-align: middle;\n",
              "    }\n",
              "\n",
              "    .dataframe tbody tr th {\n",
              "        vertical-align: top;\n",
              "    }\n",
              "\n",
              "    .dataframe thead th {\n",
              "        text-align: right;\n",
              "    }\n",
              "</style>\n",
              "<table border=\"1\" class=\"dataframe\">\n",
              "  <thead>\n",
              "    <tr style=\"text-align: right;\">\n",
              "      <th></th>\n",
              "      <th>Unnamed: 0.2</th>\n",
              "      <th>Unnamed: 0.1</th>\n",
              "      <th>Unnamed: 0</th>\n",
              "      <th>fit</th>\n",
              "      <th>user_id</th>\n",
              "      <th>item_id</th>\n",
              "      <th>rating</th>\n",
              "      <th>rented for</th>\n",
              "      <th>review_text</th>\n",
              "      <th>body type</th>\n",
              "      <th>...</th>\n",
              "      <th>category</th>\n",
              "      <th>height</th>\n",
              "      <th>size</th>\n",
              "      <th>age</th>\n",
              "      <th>review_date</th>\n",
              "      <th>tokenized_review_summary</th>\n",
              "      <th>tokenized_review_text</th>\n",
              "      <th>age_group</th>\n",
              "      <th>height_decimal</th>\n",
              "      <th>height_group</th>\n",
              "    </tr>\n",
              "  </thead>\n",
              "  <tbody>\n",
              "    <tr>\n",
              "      <th>0</th>\n",
              "      <td>40</td>\n",
              "      <td>40</td>\n",
              "      <td>46</td>\n",
              "      <td>fit</td>\n",
              "      <td>407375</td>\n",
              "      <td>321674</td>\n",
              "      <td>6.0</td>\n",
              "      <td>everyday</td>\n",
              "      <td>it was way to short i wasnt able to wear it</td>\n",
              "      <td>straight &amp; narrow</td>\n",
              "      <td>...</td>\n",
              "      <td>shirtdress</td>\n",
              "      <td>5' 8\"</td>\n",
              "      <td>8</td>\n",
              "      <td>29.0</td>\n",
              "      <td>November 22, 2016</td>\n",
              "      <td>['cute', 'really', 'short']</td>\n",
              "      <td>['way', 'short', 'wasnt', 'able', 'wear']</td>\n",
              "      <td>20-40</td>\n",
              "      <td>5.666667</td>\n",
              "      <td>5-7</td>\n",
              "    </tr>\n",
              "    <tr>\n",
              "      <th>1</th>\n",
              "      <td>57</td>\n",
              "      <td>57</td>\n",
              "      <td>65</td>\n",
              "      <td>fit</td>\n",
              "      <td>948424</td>\n",
              "      <td>1472909</td>\n",
              "      <td>6.0</td>\n",
              "      <td>party</td>\n",
              "      <td>this was perfect for an office party i really ...</td>\n",
              "      <td>hourglass</td>\n",
              "      <td>...</td>\n",
              "      <td>dress</td>\n",
              "      <td>5' 6\"</td>\n",
              "      <td>4</td>\n",
              "      <td>25.0</td>\n",
              "      <td>December 15, 2014</td>\n",
              "      <td>['liked', 'dont', 'wear', 'want', 'really', 's...</td>\n",
              "      <td>['perfect', 'office', 'party', 'really', 'like...</td>\n",
              "      <td>20-40</td>\n",
              "      <td>5.500000</td>\n",
              "      <td>5-7</td>\n",
              "    </tr>\n",
              "    <tr>\n",
              "      <th>2</th>\n",
              "      <td>78</td>\n",
              "      <td>78</td>\n",
              "      <td>90</td>\n",
              "      <td>fit</td>\n",
              "      <td>203660</td>\n",
              "      <td>1126889</td>\n",
              "      <td>6.0</td>\n",
              "      <td>party</td>\n",
              "      <td>the dress is absolutely gorgeous unfortunately...</td>\n",
              "      <td>athletic</td>\n",
              "      <td>...</td>\n",
              "      <td>dress</td>\n",
              "      <td>5' 4\"</td>\n",
              "      <td>12</td>\n",
              "      <td>28.0</td>\n",
              "      <td>January 3, 2017</td>\n",
              "      <td>['long']</td>\n",
              "      <td>['dress', 'absolutely', 'gorgeous', 'unfortuna...</td>\n",
              "      <td>20-40</td>\n",
              "      <td>5.333333</td>\n",
              "      <td>5-7</td>\n",
              "    </tr>\n",
              "    <tr>\n",
              "      <th>3</th>\n",
              "      <td>93</td>\n",
              "      <td>93</td>\n",
              "      <td>105</td>\n",
              "      <td>fit</td>\n",
              "      <td>974850</td>\n",
              "      <td>144585</td>\n",
              "      <td>6.0</td>\n",
              "      <td>date</td>\n",
              "      <td>this dress is simple and classy but it came do...</td>\n",
              "      <td>hourglass</td>\n",
              "      <td>...</td>\n",
              "      <td>dress</td>\n",
              "      <td>5' 1\"</td>\n",
              "      <td>1</td>\n",
              "      <td>32.0</td>\n",
              "      <td>January 30, 2014</td>\n",
              "      <td>['classy']</td>\n",
              "      <td>['dress', 'simple', 'classy', 'came', 'knees',...</td>\n",
              "      <td>20-40</td>\n",
              "      <td>5.083333</td>\n",
              "      <td>5-7</td>\n",
              "    </tr>\n",
              "    <tr>\n",
              "      <th>4</th>\n",
              "      <td>98</td>\n",
              "      <td>98</td>\n",
              "      <td>111</td>\n",
              "      <td>fit</td>\n",
              "      <td>981029</td>\n",
              "      <td>181161</td>\n",
              "      <td>6.0</td>\n",
              "      <td>wedding</td>\n",
              "      <td>this dress was comfortable and true to size on...</td>\n",
              "      <td>pear</td>\n",
              "      <td>...</td>\n",
              "      <td>sheath</td>\n",
              "      <td>5' 4\"</td>\n",
              "      <td>32</td>\n",
              "      <td>30.0</td>\n",
              "      <td>October 8, 2013</td>\n",
              "      <td>['comfortable', 'dress', 'great', 'color']</td>\n",
              "      <td>['dress', 'comfortable', 'true', 'size', 'con'...</td>\n",
              "      <td>20-40</td>\n",
              "      <td>5.333333</td>\n",
              "      <td>5-7</td>\n",
              "    </tr>\n",
              "    <tr>\n",
              "      <th>5</th>\n",
              "      <td>123</td>\n",
              "      <td>123</td>\n",
              "      <td>145</td>\n",
              "      <td>small</td>\n",
              "      <td>194525</td>\n",
              "      <td>141300</td>\n",
              "      <td>6.0</td>\n",
              "      <td>formal affair</td>\n",
              "      <td>had to return the dress  i have a closet full ...</td>\n",
              "      <td>apple</td>\n",
              "      <td>...</td>\n",
              "      <td>dress</td>\n",
              "      <td>5' 6\"</td>\n",
              "      <td>24</td>\n",
              "      <td>40.0</td>\n",
              "      <td>August 14, 2015</td>\n",
              "      <td>['wasnt', 'able', 'wear', 'gown', 'event']</td>\n",
              "      <td>['return', 'dress', 'closet', 'full', 'size', ...</td>\n",
              "      <td>40-60</td>\n",
              "      <td>5.500000</td>\n",
              "      <td>5-7</td>\n",
              "    </tr>\n",
              "    <tr>\n",
              "      <th>6</th>\n",
              "      <td>129</td>\n",
              "      <td>129</td>\n",
              "      <td>154</td>\n",
              "      <td>large</td>\n",
              "      <td>299660</td>\n",
              "      <td>141761</td>\n",
              "      <td>6.0</td>\n",
              "      <td>formal affair</td>\n",
              "      <td>this was my backup dress and i didnt need to w...</td>\n",
              "      <td>hourglass</td>\n",
              "      <td>...</td>\n",
              "      <td>dress</td>\n",
              "      <td>5' 7\"</td>\n",
              "      <td>24</td>\n",
              "      <td>39.0</td>\n",
              "      <td>October 15, 2013</td>\n",
              "      <td>['runs', 'large', 'full', 'belly']</td>\n",
              "      <td>['backup', 'dress', 'didnt', 'need', 'wear', '...</td>\n",
              "      <td>20-40</td>\n",
              "      <td>5.583333</td>\n",
              "      <td>5-7</td>\n",
              "    </tr>\n",
              "    <tr>\n",
              "      <th>7</th>\n",
              "      <td>144</td>\n",
              "      <td>144</td>\n",
              "      <td>171</td>\n",
              "      <td>large</td>\n",
              "      <td>262402</td>\n",
              "      <td>2806944</td>\n",
              "      <td>6.0</td>\n",
              "      <td>work</td>\n",
              "      <td>i wore this to the office because i am petite ...</td>\n",
              "      <td>pear</td>\n",
              "      <td>...</td>\n",
              "      <td>top</td>\n",
              "      <td>5' 2\"</td>\n",
              "      <td>4</td>\n",
              "      <td>32.0</td>\n",
              "      <td>March 13, 2016</td>\n",
              "      <td>['nice', 'work', 'blouse']</td>\n",
              "      <td>['wore', 'office', 'petite', 'cutouts', 'front...</td>\n",
              "      <td>20-40</td>\n",
              "      <td>5.166667</td>\n",
              "      <td>5-7</td>\n",
              "    </tr>\n",
              "    <tr>\n",
              "      <th>8</th>\n",
              "      <td>170</td>\n",
              "      <td>170</td>\n",
              "      <td>202</td>\n",
              "      <td>small</td>\n",
              "      <td>965253</td>\n",
              "      <td>130259</td>\n",
              "      <td>6.0</td>\n",
              "      <td>wedding</td>\n",
              "      <td>i tried this dress on at the showroom at henri...</td>\n",
              "      <td>pear</td>\n",
              "      <td>...</td>\n",
              "      <td>dress</td>\n",
              "      <td>5' 10\"</td>\n",
              "      <td>24</td>\n",
              "      <td>30.0</td>\n",
              "      <td>October 28, 2013</td>\n",
              "      <td>['sparkly', 'sequin', 'dress', 'ended', 'littl...</td>\n",
              "      <td>['tried', 'dress', 'showroom', 'henri', 'bende...</td>\n",
              "      <td>20-40</td>\n",
              "      <td>5.833333</td>\n",
              "      <td>5-7</td>\n",
              "    </tr>\n",
              "    <tr>\n",
              "      <th>9</th>\n",
              "      <td>190</td>\n",
              "      <td>190</td>\n",
              "      <td>225</td>\n",
              "      <td>fit</td>\n",
              "      <td>554339</td>\n",
              "      <td>127495</td>\n",
              "      <td>6.0</td>\n",
              "      <td>other</td>\n",
              "      <td>the top was too loose  baggy at the waist long...</td>\n",
              "      <td>pear</td>\n",
              "      <td>...</td>\n",
              "      <td>dress</td>\n",
              "      <td>5' 3\"</td>\n",
              "      <td>8</td>\n",
              "      <td>33.0</td>\n",
              "      <td>April 4, 2014</td>\n",
              "      <td>['didnt', 'wear', 'big', 'top']</td>\n",
              "      <td>['top', 'loose', 'baggy', 'waist', 'long', 'ar...</td>\n",
              "      <td>20-40</td>\n",
              "      <td>5.250000</td>\n",
              "      <td>5-7</td>\n",
              "    </tr>\n",
              "  </tbody>\n",
              "</table>\n",
              "<p>10 rows × 21 columns</p>\n",
              "</div>\n",
              "    <div class=\"colab-df-buttons\">\n",
              "\n",
              "  <div class=\"colab-df-container\">\n",
              "    <button class=\"colab-df-convert\" onclick=\"convertToInteractive('df-9c3fad33-47e7-4943-8ab1-731fc276f6eb')\"\n",
              "            title=\"Convert this dataframe to an interactive table.\"\n",
              "            style=\"display:none;\">\n",
              "\n",
              "  <svg xmlns=\"http://www.w3.org/2000/svg\" height=\"24px\" viewBox=\"0 -960 960 960\">\n",
              "    <path d=\"M120-120v-720h720v720H120Zm60-500h600v-160H180v160Zm220 220h160v-160H400v160Zm0 220h160v-160H400v160ZM180-400h160v-160H180v160Zm440 0h160v-160H620v160ZM180-180h160v-160H180v160Zm440 0h160v-160H620v160Z\"/>\n",
              "  </svg>\n",
              "    </button>\n",
              "\n",
              "  <style>\n",
              "    .colab-df-container {\n",
              "      display:flex;\n",
              "      gap: 12px;\n",
              "    }\n",
              "\n",
              "    .colab-df-convert {\n",
              "      background-color: #E8F0FE;\n",
              "      border: none;\n",
              "      border-radius: 50%;\n",
              "      cursor: pointer;\n",
              "      display: none;\n",
              "      fill: #1967D2;\n",
              "      height: 32px;\n",
              "      padding: 0 0 0 0;\n",
              "      width: 32px;\n",
              "    }\n",
              "\n",
              "    .colab-df-convert:hover {\n",
              "      background-color: #E2EBFA;\n",
              "      box-shadow: 0px 1px 2px rgba(60, 64, 67, 0.3), 0px 1px 3px 1px rgba(60, 64, 67, 0.15);\n",
              "      fill: #174EA6;\n",
              "    }\n",
              "\n",
              "    .colab-df-buttons div {\n",
              "      margin-bottom: 4px;\n",
              "    }\n",
              "\n",
              "    [theme=dark] .colab-df-convert {\n",
              "      background-color: #3B4455;\n",
              "      fill: #D2E3FC;\n",
              "    }\n",
              "\n",
              "    [theme=dark] .colab-df-convert:hover {\n",
              "      background-color: #434B5C;\n",
              "      box-shadow: 0px 1px 3px 1px rgba(0, 0, 0, 0.15);\n",
              "      filter: drop-shadow(0px 1px 2px rgba(0, 0, 0, 0.3));\n",
              "      fill: #FFFFFF;\n",
              "    }\n",
              "  </style>\n",
              "\n",
              "    <script>\n",
              "      const buttonEl =\n",
              "        document.querySelector('#df-9c3fad33-47e7-4943-8ab1-731fc276f6eb button.colab-df-convert');\n",
              "      buttonEl.style.display =\n",
              "        google.colab.kernel.accessAllowed ? 'block' : 'none';\n",
              "\n",
              "      async function convertToInteractive(key) {\n",
              "        const element = document.querySelector('#df-9c3fad33-47e7-4943-8ab1-731fc276f6eb');\n",
              "        const dataTable =\n",
              "          await google.colab.kernel.invokeFunction('convertToInteractive',\n",
              "                                                    [key], {});\n",
              "        if (!dataTable) return;\n",
              "\n",
              "        const docLinkHtml = 'Like what you see? Visit the ' +\n",
              "          '<a target=\"_blank\" href=https://colab.research.google.com/notebooks/data_table.ipynb>data table notebook</a>'\n",
              "          + ' to learn more about interactive tables.';\n",
              "        element.innerHTML = '';\n",
              "        dataTable['output_type'] = 'display_data';\n",
              "        await google.colab.output.renderOutput(dataTable, element);\n",
              "        const docLink = document.createElement('div');\n",
              "        docLink.innerHTML = docLinkHtml;\n",
              "        element.appendChild(docLink);\n",
              "      }\n",
              "    </script>\n",
              "  </div>\n",
              "\n",
              "\n",
              "<div id=\"df-979272c4-6264-4175-beb8-319133b7bbd3\">\n",
              "  <button class=\"colab-df-quickchart\" onclick=\"quickchart('df-979272c4-6264-4175-beb8-319133b7bbd3')\"\n",
              "            title=\"Suggest charts\"\n",
              "            style=\"display:none;\">\n",
              "\n",
              "<svg xmlns=\"http://www.w3.org/2000/svg\" height=\"24px\"viewBox=\"0 0 24 24\"\n",
              "     width=\"24px\">\n",
              "    <g>\n",
              "        <path d=\"M19 3H5c-1.1 0-2 .9-2 2v14c0 1.1.9 2 2 2h14c1.1 0 2-.9 2-2V5c0-1.1-.9-2-2-2zM9 17H7v-7h2v7zm4 0h-2V7h2v10zm4 0h-2v-4h2v4z\"/>\n",
              "    </g>\n",
              "</svg>\n",
              "  </button>\n",
              "\n",
              "<style>\n",
              "  .colab-df-quickchart {\n",
              "      --bg-color: #E8F0FE;\n",
              "      --fill-color: #1967D2;\n",
              "      --hover-bg-color: #E2EBFA;\n",
              "      --hover-fill-color: #174EA6;\n",
              "      --disabled-fill-color: #AAA;\n",
              "      --disabled-bg-color: #DDD;\n",
              "  }\n",
              "\n",
              "  [theme=dark] .colab-df-quickchart {\n",
              "      --bg-color: #3B4455;\n",
              "      --fill-color: #D2E3FC;\n",
              "      --hover-bg-color: #434B5C;\n",
              "      --hover-fill-color: #FFFFFF;\n",
              "      --disabled-bg-color: #3B4455;\n",
              "      --disabled-fill-color: #666;\n",
              "  }\n",
              "\n",
              "  .colab-df-quickchart {\n",
              "    background-color: var(--bg-color);\n",
              "    border: none;\n",
              "    border-radius: 50%;\n",
              "    cursor: pointer;\n",
              "    display: none;\n",
              "    fill: var(--fill-color);\n",
              "    height: 32px;\n",
              "    padding: 0;\n",
              "    width: 32px;\n",
              "  }\n",
              "\n",
              "  .colab-df-quickchart:hover {\n",
              "    background-color: var(--hover-bg-color);\n",
              "    box-shadow: 0 1px 2px rgba(60, 64, 67, 0.3), 0 1px 3px 1px rgba(60, 64, 67, 0.15);\n",
              "    fill: var(--button-hover-fill-color);\n",
              "  }\n",
              "\n",
              "  .colab-df-quickchart-complete:disabled,\n",
              "  .colab-df-quickchart-complete:disabled:hover {\n",
              "    background-color: var(--disabled-bg-color);\n",
              "    fill: var(--disabled-fill-color);\n",
              "    box-shadow: none;\n",
              "  }\n",
              "\n",
              "  .colab-df-spinner {\n",
              "    border: 2px solid var(--fill-color);\n",
              "    border-color: transparent;\n",
              "    border-bottom-color: var(--fill-color);\n",
              "    animation:\n",
              "      spin 1s steps(1) infinite;\n",
              "  }\n",
              "\n",
              "  @keyframes spin {\n",
              "    0% {\n",
              "      border-color: transparent;\n",
              "      border-bottom-color: var(--fill-color);\n",
              "      border-left-color: var(--fill-color);\n",
              "    }\n",
              "    20% {\n",
              "      border-color: transparent;\n",
              "      border-left-color: var(--fill-color);\n",
              "      border-top-color: var(--fill-color);\n",
              "    }\n",
              "    30% {\n",
              "      border-color: transparent;\n",
              "      border-left-color: var(--fill-color);\n",
              "      border-top-color: var(--fill-color);\n",
              "      border-right-color: var(--fill-color);\n",
              "    }\n",
              "    40% {\n",
              "      border-color: transparent;\n",
              "      border-right-color: var(--fill-color);\n",
              "      border-top-color: var(--fill-color);\n",
              "    }\n",
              "    60% {\n",
              "      border-color: transparent;\n",
              "      border-right-color: var(--fill-color);\n",
              "    }\n",
              "    80% {\n",
              "      border-color: transparent;\n",
              "      border-right-color: var(--fill-color);\n",
              "      border-bottom-color: var(--fill-color);\n",
              "    }\n",
              "    90% {\n",
              "      border-color: transparent;\n",
              "      border-bottom-color: var(--fill-color);\n",
              "    }\n",
              "  }\n",
              "</style>\n",
              "\n",
              "  <script>\n",
              "    async function quickchart(key) {\n",
              "      const quickchartButtonEl =\n",
              "        document.querySelector('#' + key + ' button');\n",
              "      quickchartButtonEl.disabled = true;  // To prevent multiple clicks.\n",
              "      quickchartButtonEl.classList.add('colab-df-spinner');\n",
              "      try {\n",
              "        const charts = await google.colab.kernel.invokeFunction(\n",
              "            'suggestCharts', [key], {});\n",
              "      } catch (error) {\n",
              "        console.error('Error during call to suggestCharts:', error);\n",
              "      }\n",
              "      quickchartButtonEl.classList.remove('colab-df-spinner');\n",
              "      quickchartButtonEl.classList.add('colab-df-quickchart-complete');\n",
              "    }\n",
              "    (() => {\n",
              "      let quickchartButtonEl =\n",
              "        document.querySelector('#df-979272c4-6264-4175-beb8-319133b7bbd3 button');\n",
              "      quickchartButtonEl.style.display =\n",
              "        google.colab.kernel.accessAllowed ? 'block' : 'none';\n",
              "    })();\n",
              "  </script>\n",
              "</div>\n",
              "    </div>\n",
              "  </div>\n"
            ],
            "text/plain": [
              "   Unnamed: 0.2  Unnamed: 0.1  Unnamed: 0    fit  user_id  item_id  rating  \\\n",
              "0            40            40          46    fit   407375   321674     6.0   \n",
              "1            57            57          65    fit   948424  1472909     6.0   \n",
              "2            78            78          90    fit   203660  1126889     6.0   \n",
              "3            93            93         105    fit   974850   144585     6.0   \n",
              "4            98            98         111    fit   981029   181161     6.0   \n",
              "5           123           123         145  small   194525   141300     6.0   \n",
              "6           129           129         154  large   299660   141761     6.0   \n",
              "7           144           144         171  large   262402  2806944     6.0   \n",
              "8           170           170         202  small   965253   130259     6.0   \n",
              "9           190           190         225    fit   554339   127495     6.0   \n",
              "\n",
              "      rented for                                        review_text  \\\n",
              "0       everyday       it was way to short i wasnt able to wear it    \n",
              "1          party  this was perfect for an office party i really ...   \n",
              "2          party  the dress is absolutely gorgeous unfortunately...   \n",
              "3           date  this dress is simple and classy but it came do...   \n",
              "4        wedding  this dress was comfortable and true to size on...   \n",
              "5  formal affair  had to return the dress  i have a closet full ...   \n",
              "6  formal affair  this was my backup dress and i didnt need to w...   \n",
              "7           work  i wore this to the office because i am petite ...   \n",
              "8        wedding  i tried this dress on at the showroom at henri...   \n",
              "9          other  the top was too loose  baggy at the waist long...   \n",
              "\n",
              "           body type  ...    category  height size   age        review_date  \\\n",
              "0  straight & narrow  ...  shirtdress   5' 8\"    8  29.0  November 22, 2016   \n",
              "1          hourglass  ...       dress   5' 6\"    4  25.0  December 15, 2014   \n",
              "2           athletic  ...       dress   5' 4\"   12  28.0    January 3, 2017   \n",
              "3          hourglass  ...       dress   5' 1\"    1  32.0   January 30, 2014   \n",
              "4               pear  ...      sheath   5' 4\"   32  30.0    October 8, 2013   \n",
              "5              apple  ...       dress   5' 6\"   24  40.0    August 14, 2015   \n",
              "6          hourglass  ...       dress   5' 7\"   24  39.0   October 15, 2013   \n",
              "7               pear  ...         top   5' 2\"    4  32.0     March 13, 2016   \n",
              "8               pear  ...       dress  5' 10\"   24  30.0   October 28, 2013   \n",
              "9               pear  ...       dress   5' 3\"    8  33.0      April 4, 2014   \n",
              "\n",
              "                            tokenized_review_summary  \\\n",
              "0                        ['cute', 'really', 'short']   \n",
              "1  ['liked', 'dont', 'wear', 'want', 'really', 's...   \n",
              "2                                           ['long']   \n",
              "3                                         ['classy']   \n",
              "4         ['comfortable', 'dress', 'great', 'color']   \n",
              "5         ['wasnt', 'able', 'wear', 'gown', 'event']   \n",
              "6                 ['runs', 'large', 'full', 'belly']   \n",
              "7                         ['nice', 'work', 'blouse']   \n",
              "8  ['sparkly', 'sequin', 'dress', 'ended', 'littl...   \n",
              "9                    ['didnt', 'wear', 'big', 'top']   \n",
              "\n",
              "                               tokenized_review_text age_group height_decimal  \\\n",
              "0          ['way', 'short', 'wasnt', 'able', 'wear']     20-40       5.666667   \n",
              "1  ['perfect', 'office', 'party', 'really', 'like...     20-40       5.500000   \n",
              "2  ['dress', 'absolutely', 'gorgeous', 'unfortuna...     20-40       5.333333   \n",
              "3  ['dress', 'simple', 'classy', 'came', 'knees',...     20-40       5.083333   \n",
              "4  ['dress', 'comfortable', 'true', 'size', 'con'...     20-40       5.333333   \n",
              "5  ['return', 'dress', 'closet', 'full', 'size', ...     40-60       5.500000   \n",
              "6  ['backup', 'dress', 'didnt', 'need', 'wear', '...     20-40       5.583333   \n",
              "7  ['wore', 'office', 'petite', 'cutouts', 'front...     20-40       5.166667   \n",
              "8  ['tried', 'dress', 'showroom', 'henri', 'bende...     20-40       5.833333   \n",
              "9  ['top', 'loose', 'baggy', 'waist', 'long', 'ar...     20-40       5.250000   \n",
              "\n",
              "   height_group  \n",
              "0           5-7  \n",
              "1           5-7  \n",
              "2           5-7  \n",
              "3           5-7  \n",
              "4           5-7  \n",
              "5           5-7  \n",
              "6           5-7  \n",
              "7           5-7  \n",
              "8           5-7  \n",
              "9           5-7  \n",
              "\n",
              "[10 rows x 21 columns]"
            ]
          },
          "execution_count": 6,
          "metadata": {},
          "output_type": "execute_result"
        }
      ],
      "source": [
        "df.head(10)"
      ]
    },
    {
      "cell_type": "code",
      "execution_count": 7,
      "metadata": {
        "colab": {
          "base_uri": "https://localhost:8080/"
        },
        "id": "Pl0nwVgIGEaA",
        "outputId": "a0085fdb-406b-4923-c8c7-819baf1c2d60"
      },
      "outputs": [
        {
          "name": "stdout",
          "output_type": "stream",
          "text": [
            "<class 'pandas.core.frame.DataFrame'>\n",
            "RangeIndex: 9569 entries, 0 to 9568\n",
            "Data columns (total 21 columns):\n",
            " #   Column                    Non-Null Count  Dtype  \n",
            "---  ------                    --------------  -----  \n",
            " 0   Unnamed: 0.2              9569 non-null   int64  \n",
            " 1   Unnamed: 0.1              9569 non-null   int64  \n",
            " 2   Unnamed: 0                9569 non-null   int64  \n",
            " 3   fit                       9569 non-null   object \n",
            " 4   user_id                   9569 non-null   int64  \n",
            " 5   item_id                   9569 non-null   int64  \n",
            " 6   rating                    9569 non-null   float64\n",
            " 7   rented for                9569 non-null   object \n",
            " 8   review_text               9569 non-null   object \n",
            " 9   body type                 9569 non-null   object \n",
            " 10  review_summary            9569 non-null   object \n",
            " 11  category                  9569 non-null   object \n",
            " 12  height                    9569 non-null   object \n",
            " 13  size                      9569 non-null   int64  \n",
            " 14  age                       9569 non-null   float64\n",
            " 15  review_date               9569 non-null   object \n",
            " 16  tokenized_review_summary  9569 non-null   object \n",
            " 17  tokenized_review_text     9569 non-null   object \n",
            " 18  age_group                 9569 non-null   object \n",
            " 19  height_decimal            9569 non-null   float64\n",
            " 20  height_group              9569 non-null   object \n",
            "dtypes: float64(3), int64(6), object(12)\n",
            "memory usage: 1.5+ MB\n"
          ]
        }
      ],
      "source": [
        "df.info()"
      ]
    },
    {
      "cell_type": "code",
      "execution_count": 8,
      "metadata": {
        "colab": {
          "base_uri": "https://localhost:8080/"
        },
        "id": "-6NUzhX0GEaB",
        "outputId": "7deec090-d186-413e-9cd4-dff19fa0eb00"
      },
      "outputs": [
        {
          "data": {
            "text/plain": [
              "9569"
            ]
          },
          "execution_count": 8,
          "metadata": {},
          "output_type": "execute_result"
        }
      ],
      "source": [
        "t = df['size'].count()\n",
        "t"
      ]
    },
    {
      "cell_type": "code",
      "execution_count": 9,
      "metadata": {
        "colab": {
          "base_uri": "https://localhost:8080/"
        },
        "id": "UKcVF7TBGEaD",
        "outputId": "5602d4dd-3b08-4744-cedb-8683c61ba075"
      },
      "outputs": [
        {
          "data": {
            "text/plain": [
              "9569"
            ]
          },
          "execution_count": 9,
          "metadata": {},
          "output_type": "execute_result"
        }
      ],
      "source": [
        "df['age'].count()"
      ]
    },
    {
      "cell_type": "code",
      "execution_count": 10,
      "metadata": {
        "colab": {
          "base_uri": "https://localhost:8080/"
        },
        "id": "SNnvKpLBGEaF",
        "outputId": "4ca6e416-80be-420d-b0a1-eab8ec22571d"
      },
      "outputs": [
        {
          "data": {
            "text/plain": [
              "9569"
            ]
          },
          "execution_count": 10,
          "metadata": {},
          "output_type": "execute_result"
        }
      ],
      "source": [
        "df['body type'].count()"
      ]
    },
    {
      "cell_type": "code",
      "execution_count": 11,
      "metadata": {
        "colab": {
          "base_uri": "https://localhost:8080/"
        },
        "id": "v78fUulAGEaG",
        "outputId": "3c552b66-8d21-4bdf-e7f8-20f800d7ccd4"
      },
      "outputs": [
        {
          "data": {
            "text/plain": [
              "9569"
            ]
          },
          "execution_count": 11,
          "metadata": {},
          "output_type": "execute_result"
        }
      ],
      "source": [
        "df['rented for'].count()"
      ]
    },
    {
      "cell_type": "code",
      "execution_count": 12,
      "metadata": {
        "colab": {
          "base_uri": "https://localhost:8080/"
        },
        "id": "bJHOPAu0GEaG",
        "outputId": "7bc31eed-96d7-4d9b-c471-4945b046e32d"
      },
      "outputs": [
        {
          "data": {
            "text/plain": [
              "9569"
            ]
          },
          "execution_count": 12,
          "metadata": {},
          "output_type": "execute_result"
        }
      ],
      "source": [
        "df['user_id'].count()"
      ]
    },
    {
      "cell_type": "code",
      "execution_count": 20,
      "metadata": {
        "colab": {
          "base_uri": "https://localhost:8080/"
        },
        "id": "vOGuLgm5GEaH",
        "outputId": "9ecf8acd-aef2-4c79-a5cf-680d09b4717d"
      },
      "outputs": [
        {
          "data": {
            "text/plain": [
              "9569"
            ]
          },
          "execution_count": 20,
          "metadata": {},
          "output_type": "execute_result"
        }
      ],
      "source": [
        "df['item_id'].count()\n"
      ]
    },
    {
      "cell_type": "code",
      "execution_count": 21,
      "metadata": {
        "colab": {
          "base_uri": "https://localhost:8080/"
        },
        "id": "1RRX4ubJGEaH",
        "outputId": "4b33648e-3176-4fa1-f862-0be9d81b9908"
      },
      "outputs": [
        {
          "data": {
            "text/plain": [
              "dress       4913\n",
              "gown        1463\n",
              "sheath       807\n",
              "top          369\n",
              "shift        319\n",
              "jumpsuit     314\n",
              "romper       203\n",
              "maxi         158\n",
              "mini         145\n",
              "jacket       142\n",
              "skirt        118\n",
              "Name: category, dtype: int64"
            ]
          },
          "execution_count": 21,
          "metadata": {},
          "output_type": "execute_result"
        }
      ],
      "source": [
        "category_counts = df['category'].value_counts()\n",
        "\n",
        "t = category_counts.head(11)\n",
        "\n",
        "t"
      ]
    },
    {
      "cell_type": "code",
      "execution_count": 22,
      "metadata": {
        "id": "3SRA3HUyGEaH"
      },
      "outputs": [],
      "source": [
        "fit_mapping = {'small': 1, 'fit': 2, 'large': 3}\n",
        "df['fit_numeric'] = df['fit'].map(fit_mapping)\n"
      ]
    },
    {
      "cell_type": "code",
      "execution_count": 30,
      "metadata": {
        "colab": {
          "base_uri": "https://localhost:8080/"
        },
        "id": "rLDSBzrpGEaH",
        "outputId": "709606ed-d195-4c3b-acc5-9e0c482bd46c"
      },
      "outputs": [
        {
          "name": "stdout",
          "output_type": "stream",
          "text": [
            "          fit_numeric\n",
            "category             \n",
            "dress        1.966212\n",
            "gown         1.954887\n",
            "jacket       1.873239\n",
            "jumpsuit     1.926752\n",
            "maxi         2.227848\n",
            "mini         1.827586\n",
            "romper       2.064039\n",
            "sheath       1.863693\n",
            "shift        1.912226\n",
            "skirt        1.889831\n",
            "top          2.067751\n"
          ]
        }
      ],
      "source": [
        "#importing the library\n",
        "import pandas as pd\n",
        "\n",
        "#Here we are assuming df is our DataFrame which we created\n",
        "categories_of_interest = ['dress', 'gown', 'sheath', 'top', 'shift', 'jumpsuit', 'romper', 'maxi', 'mini', 'jacket', 'skirt']\n",
        "filtered_df = df[df['category'].isin(categories_of_interest)]\n",
        "\n",
        "#Creating a pivot table\n",
        "pivot_table = pd.pivot_table(filtered_df, values='fit_numeric', index='category', aggfunc='mean')\n",
        "\n",
        "#printing pivot table\n",
        "print(pivot_table)\n"
      ]
    },
    {
      "cell_type": "code",
      "execution_count": 32,
      "metadata": {
        "colab": {
          "base_uri": "https://localhost:8080/",
          "height": 822
        },
        "id": "Qq3iklO-GEaI",
        "outputId": "38ab302d-6f28-45f3-ba6e-98a71d3c57aa"
      },
      "outputs": [
        {
          "name": "stderr",
          "output_type": "stream",
          "text": [
            "<ipython-input-32-bb613c59db58>:38: SettingWithCopyWarning: \n",
            "A value is trying to be set on a copy of a slice from a DataFrame.\n",
            "Try using .loc[row_indexer,col_indexer] = value instead\n",
            "\n",
            "See the caveats in the documentation: https://pandas.pydata.org/pandas-docs/stable/user_guide/indexing.html#returning-a-view-versus-a-copy\n",
            "  filtered_df['age_group'] = pd.cut(filtered_df['age'], bins=age_bins, labels=age_labels, right=False)\n"
          ]
        },
        {
          "data": {
            "image/png": "[encoded data removed]",
            "text/plain": [
              "<Figure size 1200x800 with 1 Axes>"
            ]
          },
          "metadata": {},
          "output_type": "display_data"
        }
      ],
      "source": [
        "#Importing Libraries for Visualization\n",
        "import matplotlib.pyplot as plt\n",
        "import seaborn as sns\n",
        "import pandas as pd\n",
        "\n",
        "#DF is our DataFrame\n",
        "selected_category = 'dress'\n",
        "filtered_df = df[df['category'] == selected_category]\n",
        "\n",
        "#Creating age groups\n",
        "age_bins = [0, 20, 30, 40, 50, 60, 100]\n",
        "age_labels = ['0-20', '20-30', '30-40', '40-50', '50-60', '60-100']\n",
        "filtered_df['age_group'] = pd.cut(filtered_df['age'], bins=age_bins, labels=age_labels, right=False)\n",
        "\n",
        "#Plotting age group distribution\n",
        "plt.figure(figsize=(12, 8))\n",
        "sns.countplot(x='age_group', data=filtered_df, palette='muted')\n",
        "\n",
        "#Setting plot labels and title\n",
        "plt.xlabel('Age Group')\n",
        "plt.ylabel('Count')\n",
        "plt.title(f'Age Group Distribution for {selected_category}')\n",
        "\n",
        "#Show the plot\n",
        "plt.show()\n"
      ]
    },
    {
      "cell_type": "code",
      "execution_count": 33,
      "metadata": {
        "colab": {
          "base_uri": "https://localhost:8080/",
          "height": 822
        },
        "id": "oAJ_yljPGEaI",
        "outputId": "a6435338-ef01-4c15-e9c4-b124c34100ac"
      },
      "outputs": [
        {
          "name": "stderr",
          "output_type": "stream",
          "text": [
            "<ipython-input-33-83ac4055d214>:13: SettingWithCopyWarning: \n",
            "A value is trying to be set on a copy of a slice from a DataFrame.\n",
            "Try using .loc[row_indexer,col_indexer] = value instead\n",
            "\n",
            "See the caveats in the documentation: https://pandas.pydata.org/pandas-docs/stable/user_guide/indexing.html#returning-a-view-versus-a-copy\n",
            "  filtered_df['age_group'] = pd.cut(filtered_df['age'], bins=bins, labels=labels, right=False)\n"
          ]
        },
        {
          "data": {
            "image/png": "[encoded data removed]",
            "text/plain": [
              "<Figure size 1200x800 with 1 Axes>"
            ]
          },
          "metadata": {},
          "output_type": "display_data"
        }
      ],
      "source": [
        "\n",
        "\n",
        "#DF is our DataFrame\n",
        "selected_category = 'gown'\n",
        "filtered_df = df[df['category'] == selected_category]\n",
        "\n",
        "#Creating age groups\n",
        "bins = [0, 20, 30, 40, 50, 60, 100]\n",
        "labels = ['0-20', '20-30', '30-40', '40-50', '50-60', '60-100']\n",
        "filtered_df['age_group'] = pd.cut(filtered_df['age'], bins=bins, labels=labels, right=False)\n",
        "\n",
        "#Plotting age group distribution\n",
        "plt.figure(figsize=(12, 8))\n",
        "sns.countplot(x='age_group', data=filtered_df, palette='muted')\n",
        "\n",
        "#Setting plot labels and title\n",
        "plt.xlabel('Age Group')\n",
        "plt.ylabel('Count')\n",
        "plt.title(f'Age Group Distribution for {selected_category}')\n",
        "\n",
        "#Show the plot\n",
        "plt.show()\n"
      ]
    },
    {
      "cell_type": "code",
      "execution_count": 34,
      "metadata": {
        "colab": {
          "base_uri": "https://localhost:8080/",
          "height": 822
        },
        "id": "xukMbPhEGEaI",
        "outputId": "65b674b5-afc4-47a0-c89f-7ab32952bdef"
      },
      "outputs": [
        {
          "name": "stderr",
          "output_type": "stream",
          "text": [
            "<ipython-input-34-302a347b41c1>:35: SettingWithCopyWarning: \n",
            "A value is trying to be set on a copy of a slice from a DataFrame.\n",
            "Try using .loc[row_indexer,col_indexer] = value instead\n",
            "\n",
            "See the caveats in the documentation: https://pandas.pydata.org/pandas-docs/stable/user_guide/indexing.html#returning-a-view-versus-a-copy\n",
            "  filtered_df['age_group'] = pd.cut(filtered_df['age'], bins=bins, labels=labels, right=False)\n"
          ]
        },
        {
          "data": {
            "image/png": "[encoded data removed]",
            "text/plain": [
              "<Figure size 1200x800 with 1 Axes>"
            ]
          },
          "metadata": {},
          "output_type": "display_data"
        }
      ],
      "source": [
        "\n",
        "\n",
        "#DF is our DataFrame\n",
        "selected_category = 'sheath'\n",
        "filtered_df = df[df['category'] == selected_category]\n",
        "\n",
        "#Creating age groups\n",
        "bins = [0, 20, 30, 40, 50, 60, 100]\n",
        "labels = ['0-20', '20-30', '30-40', '40-50', '50-60', '60-100']\n",
        "filtered_df['age_group'] = pd.cut(filtered_df['age'], bins=bins, labels=labels, right=False)\n",
        "\n",
        "#Plotting age group distribution\n",
        "plt.figure(figsize=(12, 8))\n",
        "sns.countplot(x='age_group', data=filtered_df, palette='muted')\n",
        "\n",
        "#Setting plot labels and title\n",
        "plt.xlabel('Age Group')\n",
        "plt.ylabel('Count')\n",
        "plt.title(f'Age Group Distribution for {selected_category}')\n",
        "\n",
        "#Show the plot\n",
        "plt.show()"
      ]
    },
    {
      "cell_type": "code",
      "execution_count": null,
      "metadata": {
        "id": "kaOrXyppGEaJ"
      },
      "outputs": [],
      "source": []
    }
  ],
  "metadata": {
    "colab": {
      "provenance": []
    },
    "kernelspec": {
      "display_name": "base",
      "language": "python",
      "name": "python3"
    },
    "language_info": {
      "codemirror_mode": {
        "name": "ipython",
        "version": 3
      },
      "file_extension": ".py",
      "mimetype": "text/x-python",
      "name": "python",
      "nbconvert_exporter": "python",
      "pygments_lexer": "ipython3",
      "version": "3.11.5"
    }
  },
  "nbformat": 4,
  "nbformat_minor": 0
}
